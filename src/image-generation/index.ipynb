{
 "cells": [
  {
   "cell_type": "code",
   "execution_count": 1,
   "metadata": {},
   "outputs": [],
   "source": [
    "from functools import reduce\n",
    "from utils.constants import NUM_POTRS\n",
    "from utils.json import read_json_file, write_json_file\n",
    "from utils.traits import  generate_potr_metadata, add_powers_to_metadata, power_count_reducer\n",
    "from utils.images import generate_nfts"
   ]
  },
  {
   "attachments": {},
   "cell_type": "markdown",
   "metadata": {},
   "source": [
    "### Generate and Write Potr Metadata"
   ]
  },
  {
   "cell_type": "code",
   "execution_count": 410,
   "metadata": {},
   "outputs": [],
   "source": [
    "generate_potr_metadata(n = NUM_POTRS)"
   ]
  },
  {
   "attachments": {},
   "cell_type": "markdown",
   "metadata": {},
   "source": [
    "### Recalculate and Write Potr Powers"
   ]
  },
  {
   "cell_type": "code",
   "execution_count": 2,
   "metadata": {},
   "outputs": [],
   "source": [
    "metadata = read_json_file(\"metadata\")\n",
    "add_powers_to_metadata(metadata)\n",
    "write_json_file(metadata, \"metadata\")"
   ]
  },
  {
   "cell_type": "code",
   "execution_count": 3,
   "metadata": {},
   "outputs": [
    {
     "name": "stdout",
     "output_type": "stream",
     "text": [
      "most_frequent_power: [206, 144]\n",
      "highest_power: 339\n",
      "lowest_power: 159\n",
      "lowest 10%: 600 potrs - highest pow 182\n",
      "lowest 25%: 1500 potrs - highest pow 194\n",
      "lowest 50%: 3000 potrs - highest pow 208\n",
      "lowest 75%: 4500 potrs - highest pow 228\n",
      "lowest 90%: 5400 potrs - highest pow 250\n",
      "lowest 100%: 6000 potrs - highest pow 339\n"
     ]
    }
   ],
   "source": [
    "# sort potr traits by ascending power\n",
    "ascending_potr_traits = metadata.copy()\n",
    "ascending_potr_traits.sort(key=(lambda traits: traits[\"Power\"]))\n",
    "\n",
    "power_counts = reduce(power_count_reducer, metadata, {})\n",
    "most_frequent_power = reduce(lambda max, power: [power, power_counts[power]] if power_counts[power] > max[1] else max, power_counts, [0,0])\n",
    "highest_power = max([t[\"Power\"] for t in metadata])\n",
    "lowest_power = min([t[\"Power\"] for t in metadata])\n",
    "\n",
    "\n",
    "def print_power_percentile(p): \n",
    "    lower_p = ascending_potr_traits[0:round(NUM_POTRS * (p / 100))]\n",
    "    lower_p_pow = max([t[\"Power\"] for t in lower_p])\n",
    "    print(f\"lowest {p}%: {len(lower_p)} potrs - highest pow {lower_p_pow}\")\n",
    "\n",
    "\n",
    "print(f\"most_frequent_power: {most_frequent_power}\")\n",
    "print(f\"highest_power: {highest_power}\")\n",
    "print(f\"lowest_power: {lowest_power}\")\n",
    "print_power_percentile(10)\n",
    "print_power_percentile(25)\n",
    "print_power_percentile(50)\n",
    "print_power_percentile(75)\n",
    "print_power_percentile(90)\n",
    "print_power_percentile(100)"
   ]
  },
  {
   "attachments": {},
   "cell_type": "markdown",
   "metadata": {},
   "source": [
    "### Generate NFTs"
   ]
  },
  {
   "cell_type": "code",
   "execution_count": 5,
   "metadata": {},
   "outputs": [],
   "source": [
    "generate_nfts(metadata)"
   ]
  }
 ],
 "metadata": {
  "interpreter": {
   "hash": "adbcd654b278857551e78fd0e0a3dce9c32a3cc5967e80c83fddcfd22cc1c8f6"
  },
  "kernelspec": {
   "display_name": "Python 3.9.12 ('base')",
   "language": "python",
   "name": "python3"
  },
  "language_info": {
   "codemirror_mode": {
    "name": "ipython",
    "version": 3
   },
   "file_extension": ".py",
   "mimetype": "text/x-python",
   "name": "python",
   "nbconvert_exporter": "python",
   "pygments_lexer": "ipython3",
   "version": "3.9.12"
  }
 },
 "nbformat": 4,
 "nbformat_minor": 2
}
