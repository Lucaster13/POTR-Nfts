{
 "cells": [
  {
   "cell_type": "code",
   "execution_count": 219,
   "metadata": {},
   "outputs": [],
   "source": [
    "import json\n",
    "import random\n",
    "from functools import reduce\n",
    "from math import log\n",
    "\n",
    "from PIL import Image"
   ]
  },
  {
   "cell_type": "markdown",
   "metadata": {},
   "source": [
    "<center><h1>Import Trait Data</h1></center>"
   ]
  },
  {
   "cell_type": "code",
   "execution_count": 220,
   "metadata": {},
   "outputs": [],
   "source": [
    "# READ IN TRAITS DATA FROM JSON AND CREATE CONSTANTS\n",
    "\n",
    "# trait data consists of two arrays : [trait_names, trait_rarity_percentage]\n",
    "TRAIT_WEIGHTS = None \n",
    "with open(\"./input/traitWeights.json\", \"r\") as rf:\n",
    "    TRAIT_WEIGHTS = json.load(rf)\n",
    "\n",
    "TRAIT_TYPES = [\"Background\", \"Class\", \"Body\", \"Head\", \"Eyes\", \"Mouth\", \"Back\"]\n",
    "# Background and class are the only types that dont rely on class to generate\n",
    "CLASS_DEPENDENT_TRAIT_TYPES = TRAIT_TYPES[2:]"
   ]
  },
  {
   "cell_type": "code",
   "execution_count": 221,
   "metadata": {},
   "outputs": [],
   "source": [
    "# utilities\n",
    "def check_humanoid(class_name): return class_name not in [\"Dragon\", \"Golem\", \"Phantom\"]\n",
    "def check_phantom(class_name): return class_name == \"Phantom\"\n",
    "def get_base_class(class_name): return \"Humanoid\" if check_humanoid(class_name) else class_name"
   ]
  },
  {
   "cell_type": "markdown",
   "metadata": {},
   "source": [
    "<center><h1>Asset Path Utils</h1></center>"
   ]
  },
  {
   "cell_type": "code",
   "execution_count": 222,
   "metadata": {},
   "outputs": [],
   "source": [
    "# static paths\n",
    "ASSET_PATH = \"../assets/images\"\n",
    "# use this as a default when none trait\n",
    "NONE_PATH = \"../assets/images/_none.png\"\n",
    "# background uses a centralized folder\n",
    "def get_bg_path(bg_name): return f\"{ASSET_PATH}/background/{bg_name.replace(' ', '_').lower()}.png\"\n",
    "# classname only matters for things that are humanoid or phantom\n",
    "def get_class_path(class_name): return f\"{ASSET_PATH}/class/{class_name.lower()}.png\" if check_humanoid(class_name) or check_phantom(class_name) else None;\n",
    "# general utility for getting asset image path\n",
    "def get_trait_path(traits, trait_type):\n",
    "    # return none default if trait is \"none\"\n",
    "    if traits[trait_type] == \"None\": return NONE_PATH\n",
    "    # format trait name to match image file names \n",
    "    trait_type_path = trait_type.lower()\n",
    "    trait_path = traits[trait_type].replace(\" \", \"_\").lower()\n",
    "    # the class path needs to be resolved\n",
    "    base_class_path = get_base_class(traits[\"Class\"]).lower()\n",
    "    return f\"{ASSET_PATH}/{base_class_path}/{trait_type_path}/{trait_path}.png\""
   ]
  },
  {
   "cell_type": "markdown",
   "metadata": {},
   "source": [
    "<center><h1>Generating File Name Utils</h1></center>"
   ]
  },
  {
   "cell_type": "code",
   "execution_count": 223,
   "metadata": {},
   "outputs": [],
   "source": [
    "def get_trait_index(trait_type, trait_name, base_class_name):\n",
    "    is_class_dependent = trait_type in CLASS_DEPENDENT_TRAIT_TYPES\n",
    "    trait__type_info = TRAIT_WEIGHTS[trait_type][base_class_name] if is_class_dependent else TRAIT_WEIGHTS[trait_type]\n",
    "    trait_index = trait__type_info[\"traits\"].index(trait_name)\n",
    "    return trait_index\n",
    "\n",
    "def generate_file_name(traits):\n",
    "    # for each trait get its index in the json object and pad with one '0'\n",
    "    base_class_name = get_base_class(traits[\"Class\"])\n",
    "    trait_idxs = map(lambda trait_type: get_trait_index(trait_type, traits[trait_type], base_class_name), CLASS_DEPENDENT_TRAIT_TYPES)\n",
    "    # prepend path with power so they sort by power\n",
    "    path_name = f\"{traits.get('Power')}\" \n",
    "    for idx in trait_idxs:\n",
    "        path_name = path_name + f\"{idx:02d}\"\n",
    "    return path_name"
   ]
  },
  {
   "cell_type": "markdown",
   "metadata": {},
   "source": [
    "<center><h1>Trait Resolver</h1></center>"
   ]
  },
  {
   "cell_type": "code",
   "execution_count": 224,
   "metadata": {},
   "outputs": [],
   "source": [
    "\n",
    "def get_random_trait_from_type_info(type_info): return random.choices(type_info[\"traits\"],type_info[\"weights\"])[0]\n",
    "def get_random_trait(type, class_name = None): \n",
    "    # get random background or class\n",
    "    if(class_name == None): return get_random_trait_from_type_info(TRAIT_WEIGHTS[type])\n",
    "    # get resolved class name to find trait in trait data\n",
    "    resolved_class = get_base_class(class_name)\n",
    "    trait_type_info = TRAIT_WEIGHTS[type][resolved_class]\n",
    "    # chose first random trait returned\n",
    "    trait = get_random_trait_from_type_info(trait_type_info)\n",
    "    return trait"
   ]
  },
  {
   "cell_type": "markdown",
   "metadata": {},
   "source": [
    "<center><h1>Generate Trait Metadata</h1></center>"
   ]
  },
  {
   "cell_type": "code",
   "execution_count": 225,
   "metadata": {},
   "outputs": [],
   "source": [
    "def generate_metadata(n = 200):\n",
    "    metadata = []\n",
    "    filenames = []\n",
    "    i = 0\n",
    "    while i < n:\n",
    "        # generate background and class first since they are exceptions\n",
    "        new_background = get_random_trait(\"Background\")\n",
    "        new_class = get_random_trait(\"Class\")\n",
    "        # generate rest of traits\n",
    "        potr_metadata = {\n",
    "            \"Background\": new_background,\n",
    "            \"Class\": new_class,\n",
    "            \"Body\": get_random_trait(\"Body\", new_class),\n",
    "            \"Head\": get_random_trait(\"Head\",new_class),\n",
    "            \"Eyes\": get_random_trait(\"Eyes\",new_class),\n",
    "            \"Mouth\": get_random_trait(\"Mouth\",new_class),\n",
    "            \"Back\":  get_random_trait(\"Back\",new_class)\n",
    "        }\n",
    "        \n",
    "        \n",
    "        # loop again if traits exist\n",
    "        filename = generate_file_name(potr_metadata)\n",
    "        if(filename in filenames): continue;\n",
    "        filenames.append(filename)\n",
    "        \n",
    "        i += 1\n",
    "        metadata.append(potr_metadata)\n",
    "            \n",
    "    \n",
    "    # return metadata once all of the requested objects have been made\n",
    "    return metadata"
   ]
  },
  {
   "cell_type": "markdown",
   "metadata": {},
   "source": [
    "<center><h1>------------- GENERATE POTRS HERE -------------</h1></center>"
   ]
  },
  {
   "cell_type": "code",
   "execution_count": 226,
   "metadata": {},
   "outputs": [],
   "source": [
    "# n = # of nfts to makew\n",
    "NUM_POTRS = 2000\n",
    "potr_traits = generate_metadata(n = NUM_POTRS)"
   ]
  },
  {
   "cell_type": "code",
   "execution_count": 227,
   "metadata": {},
   "outputs": [],
   "source": [
    "# reduce function that goes thru all potr traits and tallies each one into an object\n",
    "def get_trait_count(count, curr_traits): \n",
    "    for trait_type in TRAIT_TYPES:\n",
    "        trait_name = curr_traits[trait_type]\n",
    "        \n",
    "        # init count for trait_type\n",
    "        if(trait_type not in count): count[trait_type] = {}\n",
    "        \n",
    "        # init count for trait\n",
    "        if(trait_name not in count[trait_type]):\n",
    "            count[trait_type][trait_name] = 1 \n",
    "            continue;\n",
    "\n",
    "        # increment\n",
    "        count[trait_type][trait_name] += 1\n",
    "    return count\n",
    "\n",
    "# same thing as above but with power\n",
    "def get_power_count(count, curr_traits): \n",
    "    # get power\n",
    "    power = curr_traits[\"Power\"]\n",
    "    \n",
    "    # init count for power\n",
    "    if(power not in count): count[power] = 0\n",
    "\n",
    "    # increment\n",
    "    count[power]+= 1\n",
    "    \n",
    "    return count\n",
    "        \n",
    "# calculates the actual rarity for each trait \n",
    "def get_trait_true_rarities(stats, trait_type):\n",
    "    # iterate over trait names in category\n",
    "    for trait_name, count in stats[trait_type].items():\n",
    "        # calculate the rarity fraction of trait\n",
    "        true_rarity = round(count * 100 / NUM_POTRS, 3)\n",
    "        # add true rarity to stats\n",
    "        stats[trait_type][trait_name] = [count, true_rarity]\n",
    "    return stats"
   ]
  },
  {
   "cell_type": "code",
   "execution_count": 228,
   "metadata": {},
   "outputs": [],
   "source": [
    "trait_counts = reduce(get_trait_count, potr_traits, {})\n",
    "trait_true_rarities = reduce(get_trait_true_rarities, TRAIT_TYPES, trait_counts)\n",
    "\n",
    "# write traits to json if needed\n",
    "with open('./output/potrTraits.json', 'w') as f:\n",
    "    json.dump(potr_traits, f, indent=2)\n",
    "    \n",
    "with open('./output/traitTrueRarities.json', 'w') as f:\n",
    "    json.dump(trait_true_rarities, f, indent=2)"
   ]
  },
  {
   "cell_type": "markdown",
   "metadata": {},
   "source": [
    "<center><h1>Power Level</h1></center>"
   ]
  },
  {
   "cell_type": "code",
   "execution_count": 229,
   "metadata": {},
   "outputs": [],
   "source": [
    "# calculate power contribution for a single trait\n",
    "def calc_power_contribution(traits, trait_type, base_power_weight):\n",
    "    trait_name = traits[trait_type]\n",
    "    trait_rarity =  trait_true_rarities[trait_type][trait_name][1]\n",
    "    # normalize trait rarity and multiply by base\n",
    "    rarity_multiplier = 1 / (trait_rarity / 100)\n",
    "    return base_power_weight * log(rarity_multiplier)"
   ]
  },
  {
   "cell_type": "code",
   "execution_count": 230,
   "metadata": {},
   "outputs": [],
   "source": [
    "def get_power(traits):\n",
    "    base_class = get_base_class(traits[\"Class\"]);\n",
    "    is_humanoid = check_humanoid(base_class)\n",
    "    is_phantom = check_phantom(base_class)\n",
    "    is_special = not is_humanoid and not is_phantom\n",
    "    is_golem = base_class == \"Golem\"\n",
    "    \n",
    "    # # Create weights for each trait that are multipliers to its power\n",
    "    # # each trait has separate scaling factors based on the class to balance power levels\n",
    "    BASE_POWER_WEIGHTS = [\n",
    "        1500,                                                           # background\n",
    "        2000 * (1 if not is_special else 2),                            # class\n",
    "        1800 * (1 if not is_special else 0.7 if is_phantom else 1.4),   # body\n",
    "        700,                                                            # head\n",
    "        600,                                                            # eyes\n",
    "        400,                                                            # mouth\n",
    "        500                                                             # back\n",
    "    ]\n",
    "    \n",
    "    # calculate the power contribution for each trait\n",
    "    # trait_powers = [calc_power_contribution(traits, type, bpw) for type, bpw in zip(TRAIT_TYPES, BASE_POWER_WEIGHTS)]\n",
    "    rarities = [calc_power_contribution(traits, type, bpw) for type, bpw in zip(TRAIT_TYPES, BASE_POWER_WEIGHTS)]\n",
    "    \n",
    "    # sum powers and round\n",
    "    base_power = 1\n",
    "    power = round(base_power * reduce(lambda curr, tot: curr + tot, rarities))\n",
    "    \n",
    "    return power\n",
    "    "
   ]
  },
  {
   "cell_type": "code",
   "execution_count": 231,
   "metadata": {},
   "outputs": [],
   "source": [
    "def add_powers_to_metadata(md):\n",
    "    for metadata in md:\n",
    "        # retrieve the power for these traits\n",
    "        power = get_power(metadata)\n",
    "        # add power to traits and add it to list of metadata\n",
    "        metadata[\"Power\"] = power"
   ]
  },
  {
   "cell_type": "code",
   "execution_count": 232,
   "metadata": {},
   "outputs": [
    {
     "name": "stdout",
     "output_type": "stream",
     "text": [
      "most_frequent_power: [20550, 4]\n",
      "highest_power: 30045\n",
      "lowest_power: 16344\n",
      "lowest 10%: 200 potrs - highest pow 18494\n",
      "lowest 25%: 500 potrs - highest pow 19582\n",
      "lowest 50%: 1000 potrs - highest pow 20883\n",
      "lowest 75%: 1500 potrs - highest pow 22664\n",
      "lowest 90%: 1800 potrs - highest pow 24936\n",
      "lowest 100%: 2000 potrs - highest pow 30045\n"
     ]
    }
   ],
   "source": [
    "add_powers_to_metadata(potr_traits)\n",
    "\n",
    "# sort by descending power if needed\n",
    "potr_traits.sort(reverse=True, key=(lambda traits: traits[\"Power\"]))\n",
    "potr_traits.sort(reverse=True, key=(lambda traits: traits[\"Power\"]))\n",
    "descending_potr_traits = potr_traits.copy()\n",
    "descending_potr_traits.sort(key=(lambda traits: traits[\"Power\"]))\n",
    "\n",
    "power_counts = reduce(get_power_count, potr_traits, {})\n",
    "\n",
    "most_frequent_power = reduce(lambda max, power: [power, power_counts[power]] if power_counts[power] > max[1] else max, power_counts, [0,0])\n",
    "highest_power = max([t[\"Power\"] for t in potr_traits])\n",
    "lowest_power = min([t[\"Power\"] for t in potr_traits])\n",
    "\n",
    "print(f\"most_frequent_power: {most_frequent_power}\")\n",
    "print(f\"highest_power: {highest_power}\")\n",
    "print(f\"lowest_power: {lowest_power}\")\n",
    "\n",
    "def print_percentile(p): \n",
    "    lower_p = descending_potr_traits[0:round(NUM_POTRS * (p / 100))]\n",
    "    lower_p_pow = max([t[\"Power\"] for t in lower_p])\n",
    "    print(f\"lowest {p}%: {len(lower_p)} potrs - highest pow {lower_p_pow}\")\n",
    "\n",
    "print_percentile(10)\n",
    "print_percentile(25)\n",
    "print_percentile(50)\n",
    "print_percentile(75)\n",
    "print_percentile(90)\n",
    "print_percentile(100)\n"
   ]
  },
  {
   "cell_type": "code",
   "execution_count": 233,
   "metadata": {},
   "outputs": [
    {
     "name": "stdout",
     "output_type": "stream",
     "text": [
      "number of potrs: 2000\n",
      "number of filenames generated: 2000\n",
      "number of unique filenames: 2000\n"
     ]
    }
   ],
   "source": [
    "filenames = [generate_file_name(traits) for traits in potr_traits]\n",
    "print(f\"number of potrs: {len(potr_traits)}\")\n",
    "print(f\"number of filenames generated: {len(filenames)}\")\n",
    "print(f\"number of unique filenames: {len(set(filenames))}\")"
   ]
  },
  {
   "cell_type": "markdown",
   "metadata": {},
   "source": [
    "<center><h1>Generate Images</h1></center>"
   ]
  },
  {
   "cell_type": "code",
   "execution_count": 234,
   "metadata": {},
   "outputs": [],
   "source": [
    "def generate_layers(traits):\n",
    "    layers = {\n",
    "        \"Background\": Image.open(get_bg_path(traits[\"Background\"])).convert('RGBA'),\n",
    "        \"Body\": Image.open(get_trait_path(traits, \"Body\")).convert('RGBA'),\n",
    "        \"Head\": Image.open(get_trait_path(traits, \"Head\")).convert('RGBA'),\n",
    "        \"Eyes\": Image.open(get_trait_path(traits, \"Eyes\")).convert('RGBA'),\n",
    "        \"Mouth\": Image.open(get_trait_path(traits, \"Mouth\")).convert('RGBA'),\n",
    "        \"Back\": Image.open(get_trait_path(traits, \"Back\")).convert('RGBA'),\n",
    "    }\n",
    "    return layers\n",
    "def generate_dragon_layers(traits):\n",
    "    # dragons wings have name based on color which does not match the trait name\n",
    "    back_trait = traits[\"Body\"] if traits[\"Back\"] == \"Dragon Wings\" else traits[\"Back\"]\n",
    "    traits[\"Back\"] = back_trait\n",
    "    layers = generate_layers(traits)   \n",
    "    # dragons body covers as its class\n",
    "    layers[\"Class\"] = Image.open(NONE_PATH).convert('RGBA')\n",
    "    # put the correct back name back into traits\n",
    "    if(traits[\"Back\"] not in TRAIT_WEIGHTS[\"Back\"][\"Dragon\"][\"traits\"]): traits[\"Back\"] = \"Dragon Wings\"\n",
    "    return layers\n",
    "def generate_golem_layers(traits):\n",
    "    # golem back spikes have name based on color which does not match the trait name\n",
    "    back_trait = traits[\"Body\"] if traits[\"Back\"] == \"Spikes\" else traits[\"Back\"]\n",
    "    traits[\"Back\"] = back_trait\n",
    "    layers = generate_layers(traits)   \n",
    "    # golem body covers as its class\n",
    "    layers[\"Class\"] = Image.open(NONE_PATH).convert('RGBA')\n",
    "    # put the correct back name back into traits\n",
    "    if(traits[\"Back\"] not in TRAIT_WEIGHTS[\"Back\"][\"Golem\"][\"traits\"]): traits[\"Back\"] = \"Spikes\"\n",
    "    return layers\n",
    "def generate_humanoid_layers(traits):\n",
    "    layers = generate_layers(traits)\n",
    "    layers[\"Class\"] = Image.open(get_class_path(traits[\"Class\"])).convert('RGBA')\n",
    "    return layers"
   ]
  },
  {
   "cell_type": "code",
   "execution_count": 235,
   "metadata": {},
   "outputs": [],
   "source": [
    "#  this takes the layers and creates an actual image\n",
    "def create_image_composite(traits, layers):\n",
    "    trait_types = TRAIT_TYPES.copy()\n",
    "    \n",
    "    # if not humanoid remove class so we dont add an unnecessary layer for class trait\n",
    "    if not check_humanoid(traits[\"Class\"]) and not check_phantom(traits[\"Class\"]): trait_types.remove(\"Class\")\n",
    "    \n",
    "    # create first layer\n",
    "    potr = Image.alpha_composite(layers[\"Background\"], layers[\"Back\"]);\n",
    "    \n",
    "    # remove used layers\n",
    "    trait_types.remove(\"Background\")\n",
    "    trait_types.remove(\"Back\")\n",
    "    \n",
    "    # add rest of layers\n",
    "    for type in trait_types:\n",
    "        potr = Image.alpha_composite(potr, layers[type])\n",
    "        \n",
    "    # Convert to RGB so there is no opacity aspect\n",
    "    potr = potr.convert('RGB')\n",
    "    return potr\n",
    "            "
   ]
  },
  {
   "cell_type": "markdown",
   "metadata": {},
   "source": [
    "<center><h1>------------- GENERATE IMAGES HERE -------------</h1></center>"
   ]
  },
  {
   "cell_type": "code",
   "execution_count": 236,
   "metadata": {},
   "outputs": [],
   "source": [
    "for traits in potr_traits:\n",
    "    class_name = traits[\"Class\"]\n",
    "    \n",
    "    layers = None;\n",
    "    if(class_name == \"Dragon\"):\n",
    "        layers = generate_dragon_layers(traits)\n",
    "    elif(class_name == \"Golem\"):\n",
    "        layers = generate_golem_layers(traits)\n",
    "    else:\n",
    "        # generating humanoid will be same as phantom\n",
    "        layers = generate_humanoid_layers(traits)\n",
    "\n",
    "    # create composite images\n",
    "    potr = create_image_composite(traits, layers)\n",
    "\n",
    "    # generate file name based on traits\n",
    "    potr_name = generate_file_name(traits)\n",
    "    \n",
    "    # save the new image file\n",
    "    potr.save(f\"../nfts/{potr_name}.png\")"
   ]
  },
  {
   "cell_type": "code",
   "execution_count": null,
   "metadata": {},
   "outputs": [],
   "source": []
  }
 ],
 "metadata": {
  "interpreter": {
   "hash": "adbcd654b278857551e78fd0e0a3dce9c32a3cc5967e80c83fddcfd22cc1c8f6"
  },
  "kernelspec": {
   "display_name": "Python 3.9.12 ('base')",
   "language": "python",
   "name": "python3"
  },
  "language_info": {
   "codemirror_mode": {
    "name": "ipython",
    "version": 3
   },
   "file_extension": ".py",
   "mimetype": "text/x-python",
   "name": "python",
   "nbconvert_exporter": "python",
   "pygments_lexer": "ipython3",
   "version": "3.9.12 (main, Apr  5 2022, 01:53:17) \n[Clang 12.0.0 ]"
  }
 },
 "nbformat": 4,
 "nbformat_minor": 2
}
