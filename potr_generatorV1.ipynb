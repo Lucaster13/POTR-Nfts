{
 "cells": [
  {
   "cell_type": "code",
   "execution_count": 5,
   "metadata": {},
   "outputs": [],
   "source": [
    "from PIL import Image\n",
    "from IPython.display import display\n",
    "import random\n",
    "import json\n",
    "from functools import reduce\n",
    "from math import log"
   ]
  },
  {
   "cell_type": "code",
   "execution_count": 6,
   "metadata": {},
   "outputs": [],
   "source": [
    "TRAITS_DATA = None\n",
    "TRAITS_NAMES = [\"Background\",\"Class\", \"Body\", \"Head\", \"Eyes\", \"Mouth\", \"Back\"]\n",
    "COMMON_TRAITS = TRAITS_NAMES[2:]\n",
    "\n",
    "\n",
    "with open(\"traits.json\", \"r\") as rf:\n",
    "    TRAITS_DATA = json.load(rf)\n",
    "    "
   ]
  },
  {
   "cell_type": "markdown",
   "metadata": {},
   "source": [
    "<center><h1>Asset Path Resolver</h1></center>"
   ]
  },
  {
   "cell_type": "code",
   "execution_count": 15,
   "metadata": {},
   "outputs": [],
   "source": [
    "asset_path = \"/Users/lucasterr/Documents/potr/traits/assets\"\n",
    "none_path = \"/Users/lucasterr/Documents/potr/traits/assets/none.png\"\n",
    "def get_bg_path(bg_name): \n",
    "    return f\"{asset_path}/background/{bg_name.lower()}.png\"\n",
    "def get_class_path(class_name): \n",
    "    return f\"{asset_path}/humanoid/class/{class_name.lower()}.png\" if class_name not in [\"Dragon\", \"Golem\"] else None;\n",
    "def get_asset_path(traits, trait_type):\n",
    "    if traits[trait_type] == \"None\": return none_path\n",
    "    formatted_trait = traits[trait_type].replace(\" \", \"_\").lower()\n",
    "    class_path = traits['Class'].lower() if traits[\"Class\"] in [\"Dragon\", \"Golem\"] else \"Humanoid\"\n",
    "    return f\"{asset_path}/{class_path}/{trait_type.lower()}/{formatted_trait}.png\""
   ]
  },
  {
   "cell_type": "code",
   "execution_count": 16,
   "metadata": {},
   "outputs": [],
   "source": [
    "def get_resolved_class(class_name):\n",
    "    return class_name if class_name in [\"Dragon\", \"Golem\", \"Phantom\"] else \"Humanoid\""
   ]
  },
  {
   "cell_type": "code",
   "execution_count": 17,
   "metadata": {},
   "outputs": [],
   "source": [
    "def generate_file_name(traits):\n",
    "    background_idx = TRAITS_DATA[\"Background\"][0].index(traits[\"Background\"])\n",
    "    class_idx = TRAITS_DATA[\"Class\"][0].index(traits[\"Class\"])\n",
    "    resolved_class_name = get_resolved_class(traits[\"Class\"])\n",
    "    common_trait_idxs = map(lambda trait: TRAITS_DATA[trait][resolved_class_name][0].index(traits[trait]), COMMON_TRAITS)\n",
    "    path_name = f\"{background_idx:02d}{class_idx:02d}\"\n",
    "    for idx in common_trait_idxs:\n",
    "        path_name = path_name + f\"{idx:02d}\"\n",
    "    return path_name"
   ]
  },
  {
   "cell_type": "markdown",
   "metadata": {},
   "source": [
    "<center><h1>Trait Resolver</h1></center>"
   ]
  },
  {
   "cell_type": "code",
   "execution_count": 18,
   "metadata": {},
   "outputs": [],
   "source": [
    "def get_random_trait(type, class_name = None): \n",
    "    if(type in TRAITS_NAMES[:2]):\n",
    "        return random.choices(TRAITS_DATA[type][0], TRAITS_DATA[type][1])[0]\n",
    "    resolved_class = get_resolved_class(class_name)\n",
    "    return random.choices(\n",
    "        TRAITS_DATA[type][resolved_class][0],\n",
    "        TRAITS_DATA[type][resolved_class][1]\n",
    "    )[0]"
   ]
  },
  {
   "cell_type": "markdown",
   "metadata": {},
   "source": [
    "<center><h1>Power Level</h1></center>"
   ]
  },
  {
   "cell_type": "code",
   "execution_count": 19,
   "metadata": {},
   "outputs": [],
   "source": [
    "def get_power(traits):\n",
    "    resolved_class = get_resolved_class(traits[\"Class\"]);\n",
    "    is_humanoid = resolved_class == \"Humanoid\" or resolved_class == \"Phantom\"\n",
    "    is_golem = resolved_class == \"Golem\"\n",
    "    \n",
    "    trait_weights = [\n",
    "        100,\n",
    "        600,\n",
    "        400 * (1 if is_humanoid else 2),\n",
    "        300 * (1 if is_humanoid else 2.3 if is_golem else 2), \n",
    "        200 * (1 if is_humanoid else 1.6),\n",
    "        120,\n",
    "        70 * (1 if is_humanoid else 2 if is_golem else 1.6)\n",
    "    ]\n",
    "    \n",
    "    def calc_power(type, weight):\n",
    "        rarity = None;\n",
    "        if(type in TRAITS_NAMES[:2]): \n",
    "            rarity = TRAITS_DATA[type][1][TRAITS_DATA[type][0].index(traits[type])]\n",
    "        else: \n",
    "            rarity = TRAITS_DATA[type][resolved_class][1][TRAITS_DATA[type][resolved_class][0].index(traits[type])]\n",
    "    \n",
    "        return weight /( 1 if rarity == 1 else log(rarity))\n",
    "    \n",
    "    trait_powers = [calc_power(type, weight) for type, weight in zip(TRAITS_NAMES, trait_weights)]\n",
    "    power = round(reduce(lambda curr, tot: curr + tot, trait_powers))\n",
    "    \n",
    "    return power\n",
    "    "
   ]
  },
  {
   "cell_type": "markdown",
   "metadata": {},
   "source": [
    "<center><h1>Generate Trait Metadata</h1></center>"
   ]
  },
  {
   "cell_type": "code",
   "execution_count": 20,
   "metadata": {},
   "outputs": [],
   "source": [
    "def generate_metadata(n = 200):\n",
    "    metadata = []\n",
    "    \n",
    "    for i in range(n):\n",
    "        new_background = get_random_trait(\"Background\")\n",
    "        new_class = get_random_trait(\"Class\")\n",
    "        new_body = get_random_trait(\"Body\", new_class)\n",
    "        new_head = get_random_trait(\"Head\",new_class)\n",
    "        new_eyes = get_random_trait(\"Eyes\",new_class)\n",
    "        new_mouth = get_random_trait(\"Mouth\",new_class)\n",
    "        new_back = get_random_trait(\"Back\",new_class)\n",
    "        \n",
    "        new_potr_metadata = {\n",
    "            \"Background\": new_background,\n",
    "            \"Class\": new_class,\n",
    "            \"Body\": new_body,\n",
    "            \"Head\": new_head,\n",
    "            \"Eyes\": new_eyes,\n",
    "            \"Mouth\": new_mouth,\n",
    "            \"Back\": new_back\n",
    "        }\n",
    "        \n",
    "        # loop again if these traits exist\n",
    "        if(new_potr_metadata in metadata):\n",
    "            i -= 1\n",
    "            continue;\n",
    "        else:\n",
    "            power = get_power(new_potr_metadata)\n",
    "            new_potr_metadata[\"Power\"] = power\n",
    "            metadata.append(new_potr_metadata)\n",
    "    \n",
    "    return metadata"
   ]
  },
  {
   "cell_type": "code",
   "execution_count": 27,
   "metadata": {},
   "outputs": [],
   "source": [
    "# n = # of nfts to make\n",
    "potr_traits = generate_metadata(n = 200)\n"
   ]
  },
  {
   "cell_type": "code",
   "execution_count": 28,
   "metadata": {},
   "outputs": [],
   "source": [
    "potr_traits.sort(reverse=True, key=(lambda traits: traits[\"Power\"]))"
   ]
  },
  {
   "cell_type": "code",
   "execution_count": 32,
   "metadata": {},
   "outputs": [],
   "source": [
    "with open('data.json', 'w') as f:\n",
    "    json.dump(potr_traits, f)\n",
    "    "
   ]
  },
  {
   "cell_type": "markdown",
   "metadata": {},
   "source": [
    "<center><h1>Generate Images</h1></center>"
   ]
  },
  {
   "cell_type": "code",
   "execution_count": 29,
   "metadata": {},
   "outputs": [],
   "source": [
    "def generate_layers(traits):\n",
    "    layers = {\n",
    "        \"Background\": Image.open(get_bg_path(traits[\"Background\"])).convert('RGBA'),\n",
    "        \"Body\": Image.open(get_asset_path(traits, \"Body\")).convert('RGBA'),\n",
    "        \"Head\": Image.open(get_asset_path(traits, \"Head\")).convert('RGBA'),\n",
    "        \"Eyes\": Image.open(get_asset_path(traits, \"Eyes\")).convert('RGBA'),\n",
    "        \"Mouth\": Image.open(get_asset_path(traits, \"Mouth\")).convert('RGBA'),\n",
    "        \"Back\": Image.open(get_asset_path(traits, \"Back\")).convert('RGBA'),\n",
    "    }\n",
    "    return layers\n",
    "def generate_dragon_layers(traits):\n",
    "    back_trait = traits[\"Body\"] if traits[\"Back\"] == \"Dragon Wings\" else traits[\"Back\"]\n",
    "    traits[\"Back\"] = back_trait\n",
    "    layers = generate_layers(traits)   \n",
    "    layers[\"Class\"] = Image.open(none_path).convert('RGBA')\n",
    "    if(traits[\"Back\"] not in TRAITS_DATA[\"Back\"][\"Dragon\"][0]): traits[\"Back\"] = \"Dragon Wings\"\n",
    "    return layers\n",
    "def generate_golem_layers(traits):\n",
    "    layers = generate_layers(traits)   \n",
    "    layers[\"Class\"] = Image.open(none_path).convert('RGBA')\n",
    "    return layers\n",
    "def generate_humanoid_layers(traits):\n",
    "    layers = generate_layers(traits)\n",
    "    layers[\"Class\"] = Image.open(get_class_path(traits[\"Class\"])).convert('RGBA')\n",
    "    return layers"
   ]
  },
  {
   "cell_type": "code",
   "execution_count": 30,
   "metadata": {},
   "outputs": [],
   "source": [
    "def create_image_composite(traits, layers):\n",
    "    trait_types = TRAITS_NAMES.copy()\n",
    "    if(traits[\"Class\"] in [\"Dragon\", \"Golem\"]): trait_types.remove(\"Class\")\n",
    "    potr = Image.alpha_composite(layers[trait_types[0]], layers[trait_types[1]]);\n",
    "    for type in trait_types[2:]:\n",
    "        potr = Image.alpha_composite(potr, layers[type])\n",
    "    \n",
    "    potr = potr.convert('RGB')\n",
    "    return potr\n",
    "            "
   ]
  },
  {
   "cell_type": "code",
   "execution_count": 31,
   "metadata": {},
   "outputs": [],
   "source": [
    "for traits in potr_traits:\n",
    "    class_name = traits[\"Class\"]\n",
    "    \n",
    "    layers = None;\n",
    "    if(class_name == \"Dragon\"):\n",
    "        layers = generate_dragon_layers(traits)\n",
    "    elif(class_name == \"Golem\"):\n",
    "        layers = generate_golem_layers(traits)\n",
    "    else:\n",
    "        layers = generate_humanoid_layers(traits)\n",
    "\n",
    "    # create composite images\n",
    "    potr = create_image_composite(traits, layers)\n",
    "\n",
    "    #Convert to RGB\n",
    "    potr_name = generate_file_name(traits)\n",
    "    potr.save(f\"/Users/lucasterr/Documents/potr/nfts/{potr_name}.png\")"
   ]
  },
  {
   "cell_type": "markdown",
   "metadata": {},
   "source": [
    "<center><h1>Generate ASA Metadata</h1></center>"
   ]
  },
  {
   "cell_type": "markdown",
   "metadata": {},
   "source": []
  }
 ],
 "metadata": {
  "interpreter": {
   "hash": "adbcd654b278857551e78fd0e0a3dce9c32a3cc5967e80c83fddcfd22cc1c8f6"
  },
  "kernelspec": {
   "display_name": "Python 3.9.12 ('base')",
   "language": "python",
   "name": "python3"
  },
  "language_info": {
   "codemirror_mode": {
    "name": "ipython",
    "version": 3
   },
   "file_extension": ".py",
   "mimetype": "text/x-python",
   "name": "python",
   "nbconvert_exporter": "python",
   "pygments_lexer": "ipython3",
   "version": "3.9.12"
  }
 },
 "nbformat": 4,
 "nbformat_minor": 2
}
